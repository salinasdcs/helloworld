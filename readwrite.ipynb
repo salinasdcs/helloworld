{
 "cells": [
  {
   "cell_type": "code",
   "execution_count": 28,
   "metadata": {},
   "outputs": [],
   "source": [
    "import os, csv\n",
    "import random"
   ]
  },
  {
   "cell_type": "code",
   "execution_count": 3,
   "metadata": {},
   "outputs": [
    {
     "name": "stdout",
     "output_type": "stream",
     "text": [
      "/Users/salinasc/helloworld\n"
     ]
    }
   ],
   "source": [
    "print(os.getcwd()) # Directory of current python path"
   ]
  },
  {
   "cell_type": "code",
   "execution_count": 8,
   "metadata": {},
   "outputs": [
    {
     "name": "stdout",
     "output_type": "stream",
     "text": [
      "/Users/salinasc/helloworld/roster.csv\n"
     ]
    }
   ],
   "source": [
    "path1 = os.getcwd()\n",
    "path2 = 'roster.csv'\n",
    "csvFilePath = os.path.join(path1, path2)\n",
    "\n",
    "print(csvFilePath)"
   ]
  },
  {
   "cell_type": "markdown",
   "metadata": {},
   "source": [
    "### Reading csv files"
   ]
  },
  {
   "cell_type": "code",
   "execution_count": 26,
   "metadata": {},
   "outputs": [
    {
     "name": "stdout",
     "output_type": "stream",
     "text": [
      "[{'name': 'Joe'}, {'name': 'Jihuan'}, {'name': 'Ali'}, {'name': 'Frances'}, {'name': 'Daniela V'}, {'name': 'Mostafa'}, {'name': 'Daniela P'}, {'name': 'Cesar'}, {'name': 'Jarrod'}, {'name': 'Austin'}, {'name': 'Jack'}, {'name': 'Ala'}, {'name': 'Sergii'}, {'name': 'Miles'}, {'name': 'Hyeyun'}, {'name': 'Volodymyr'}, {'name': 'Yijia'}, {'name': 'Hsin-Yun'}, {'name': 'Renata'}, {'name': 'Max'}, {'name': 'Joshua'}, {'name': 'David'}]\n"
     ]
    }
   ],
   "source": [
    "with open(csvFilePath, mode = 'r', newline = '', encoding = 'utf-8-sig') as csvFile:\n",
    "    reader = csv.reader(csvFile, delimiter = ',')\n",
    "    header = next(reader)\n",
    "    roster = []\n",
    "    for row in reader:\n",
    "        temp = {'name': row[0]}\n",
    "        roster.append(temp)\n",
    "    print(roster)"
   ]
  },
  {
   "cell_type": "markdown",
   "metadata": {},
   "source": [
    "### Modifying the Data"
   ]
  },
  {
   "cell_type": "code",
   "execution_count": 27,
   "metadata": {},
   "outputs": [
    {
     "name": "stdout",
     "output_type": "stream",
     "text": [
      "[{'name': 'Joe'}, {'name': 'Jihuan'}, {'name': 'Ali'}, {'name': 'Frances'}, {'name': 'Daniela V'}, {'name': 'Mostafa'}, {'name': 'Daniela P'}, {'name': 'Cesar'}, {'name': 'Jarrod'}, {'name': 'Austin'}, {'name': 'Jack'}, {'name': 'Ala'}, {'name': 'Sergii'}, {'name': 'Miles'}, {'name': 'Hyeyun'}, {'name': 'Volodymyr'}, {'name': 'Yijia'}, {'name': 'Hsin-Yun'}, {'name': 'Renata'}, {'name': 'Max'}, {'name': 'Joshua'}, {'name': 'David'}, {'name': 'Wally'}]\n"
     ]
    }
   ],
   "source": [
    "## Add someone who is missing\n",
    "roster.append({'name': 'Wally'})\n",
    "print(roster)"
   ]
  },
  {
   "cell_type": "markdown",
   "metadata": {},
   "source": [
    "### Assign grades"
   ]
  },
  {
   "cell_type": "code",
   "execution_count": 29,
   "metadata": {},
   "outputs": [],
   "source": [
    "random.seed(1) # Set the seed"
   ]
  },
  {
   "cell_type": "code",
   "execution_count": 30,
   "metadata": {},
   "outputs": [
    {
     "name": "stdout",
     "output_type": "stream",
     "text": [
      "{'name': 'Joe', 'grade': 17}\n",
      "{'name': 'Jihuan', 'grade': 72}\n",
      "{'name': 'Ali', 'grade': 97}\n",
      "{'name': 'Frances', 'grade': 8}\n",
      "{'name': 'Daniela V', 'grade': 32}\n",
      "{'name': 'Mostafa', 'grade': 15}\n",
      "{'name': 'Daniela P', 'grade': 63}\n",
      "{'name': 'Cesar', 'grade': 97}\n",
      "{'name': 'Jarrod', 'grade': 57}\n",
      "{'name': 'Austin', 'grade': 60}\n",
      "{'name': 'Jack', 'grade': 83}\n",
      "{'name': 'Ala', 'grade': 48}\n",
      "{'name': 'Sergii', 'grade': 100}\n",
      "{'name': 'Miles', 'grade': 26}\n",
      "{'name': 'Hyeyun', 'grade': 12}\n",
      "{'name': 'Volodymyr', 'grade': 62}\n",
      "{'name': 'Yijia', 'grade': 3}\n",
      "{'name': 'Hsin-Yun', 'grade': 49}\n",
      "{'name': 'Renata', 'grade': 55}\n",
      "{'name': 'Max', 'grade': 77}\n",
      "{'name': 'Joshua', 'grade': 97}\n",
      "{'name': 'David', 'grade': 98}\n",
      "{'name': 'Wally', 'grade': 0}\n"
     ]
    }
   ],
   "source": [
    "for student in roster:\n",
    "    student['grade'] = random.randint(0, 100)\n",
    "    print(student)"
   ]
  },
  {
   "cell_type": "code",
   "execution_count": 31,
   "metadata": {},
   "outputs": [],
   "source": [
    "def compute_mean(values):\n",
    "    n = len(values)\n",
    "    result = sum(values)/n\n",
    "    return result"
   ]
  },
  {
   "cell_type": "code",
   "execution_count": 34,
   "metadata": {},
   "outputs": [
    {
     "name": "stdout",
     "output_type": "stream",
     "text": [
      "[17, 72, 97, 8, 32, 15, 63, 97, 57, 60, 83, 48, 100, 26, 12, 62, 3, 49, 55, 77, 97, 98, 0]\n"
     ]
    }
   ],
   "source": [
    "grades = []\n",
    "for student in roster:\n",
    "    grade = student['grade']\n",
    "    grades.append(grade)\n",
    "\n",
    "print(grades)"
   ]
  },
  {
   "cell_type": "code",
   "execution_count": 35,
   "metadata": {},
   "outputs": [
    {
     "name": "stdout",
     "output_type": "stream",
     "text": [
      "53.391304347826086\n"
     ]
    }
   ],
   "source": [
    "mean = compute_mean(grades)\n",
    "print(mean)"
   ]
  },
  {
   "cell_type": "markdown",
   "metadata": {},
   "source": [
    "### Edit a specific row/student"
   ]
  },
  {
   "cell_type": "code",
   "execution_count": 36,
   "metadata": {},
   "outputs": [
    {
     "name": "stdout",
     "output_type": "stream",
     "text": [
      "[{'name': 'Joe', 'grade': 17}, {'name': 'Jihuan', 'grade': 72}, {'name': 'Ali', 'grade': 97}, {'name': 'Frances', 'grade': 8}, {'name': 'Daniela V', 'grade': 32}, {'name': 'Mostafa', 'grade': 15}, {'name': 'Daniela P', 'grade': 100}, {'name': 'Cesar', 'grade': 97}, {'name': 'Jarrod', 'grade': 57}, {'name': 'Austin', 'grade': 60}, {'name': 'Jack', 'grade': 83}, {'name': 'Ala', 'grade': 48}, {'name': 'Sergii', 'grade': 100}, {'name': 'Miles', 'grade': 26}, {'name': 'Hyeyun', 'grade': 12}, {'name': 'Volodymyr', 'grade': 62}, {'name': 'Yijia', 'grade': 3}, {'name': 'Hsin-Yun', 'grade': 49}, {'name': 'Renata', 'grade': 55}, {'name': 'Max', 'grade': 77}, {'name': 'Joshua', 'grade': 97}, {'name': 'David', 'grade': 98}, {'name': 'Wally', 'grade': 0}]\n"
     ]
    }
   ],
   "source": [
    "for student in roster:\n",
    "    if student['name'] == 'Daniela P':\n",
    "        student['grade'] = 100\n",
    "\n",
    "print(roster)"
   ]
  },
  {
   "cell_type": "code",
   "execution_count": 37,
   "metadata": {},
   "outputs": [
    {
     "name": "stdout",
     "output_type": "stream",
     "text": [
      "{'name': 'Joe', 'grade': 57}\n",
      "{'name': 'Jihuan', 'grade': 72}\n",
      "{'name': 'Ali', 'grade': 97}\n",
      "{'name': 'Frances', 'grade': 48}\n",
      "{'name': 'Daniela V', 'grade': 72}\n",
      "{'name': 'Mostafa', 'grade': 55}\n",
      "{'name': 'Daniela P', 'grade': 100}\n",
      "{'name': 'Cesar', 'grade': 97}\n",
      "{'name': 'Jarrod', 'grade': 57}\n",
      "{'name': 'Austin', 'grade': 60}\n",
      "{'name': 'Jack', 'grade': 83}\n",
      "{'name': 'Ala', 'grade': 88}\n",
      "{'name': 'Sergii', 'grade': 100}\n",
      "{'name': 'Miles', 'grade': 66}\n",
      "{'name': 'Hyeyun', 'grade': 52}\n",
      "{'name': 'Volodymyr', 'grade': 62}\n",
      "{'name': 'Yijia', 'grade': 43}\n",
      "{'name': 'Hsin-Yun', 'grade': 89}\n",
      "{'name': 'Renata', 'grade': 55}\n",
      "{'name': 'Max', 'grade': 77}\n",
      "{'name': 'Joshua', 'grade': 97}\n",
      "{'name': 'David', 'grade': 98}\n",
      "{'name': 'Wally', 'grade': 40}\n"
     ]
    }
   ],
   "source": [
    "for student in roster:\n",
    "    if student['grade'] < 50:\n",
    "        student['grade'] = student['grade'] + 40\n",
    "    print(student)"
   ]
  },
  {
   "cell_type": "markdown",
   "metadata": {},
   "source": [
    "## List comprehensions"
   ]
  },
  {
   "cell_type": "code",
   "execution_count": 38,
   "metadata": {},
   "outputs": [
    {
     "name": "stdout",
     "output_type": "stream",
     "text": [
      "[57, 72, 97, 48, 72, 55, 100, 97, 57, 60, 83, 88, 100, 66, 52, 62, 43, 89, 55, 77, 97, 98, 40]\n"
     ]
    }
   ],
   "source": [
    "grades = [student['grade'] for student in roster]\n",
    "print(grades)"
   ]
  },
  {
   "cell_type": "code",
   "execution_count": 39,
   "metadata": {},
   "outputs": [
    {
     "name": "stdout",
     "output_type": "stream",
     "text": [
      "72.3913043478261\n"
     ]
    }
   ],
   "source": [
    "average = compute_mean(grades)\n",
    "print(average)"
   ]
  },
  {
   "cell_type": "code",
   "execution_count": null,
   "metadata": {},
   "outputs": [],
   "source": []
  }
 ],
 "metadata": {
  "interpreter": {
   "hash": "b34f7a61903522e8f2101b14bfaa4f8f7b7efbca99a90c9b6b1e622328d6475d"
  },
  "kernelspec": {
   "display_name": "Python 3.9.7 ('base')",
   "language": "python",
   "name": "python3"
  },
  "language_info": {
   "codemirror_mode": {
    "name": "ipython",
    "version": 3
   },
   "file_extension": ".py",
   "mimetype": "text/x-python",
   "name": "python",
   "nbconvert_exporter": "python",
   "pygments_lexer": "ipython3",
   "version": "3.9.7"
  },
  "orig_nbformat": 4
 },
 "nbformat": 4,
 "nbformat_minor": 2
}
